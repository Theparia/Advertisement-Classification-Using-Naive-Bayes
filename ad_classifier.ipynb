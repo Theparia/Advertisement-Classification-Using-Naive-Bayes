{
 "cells": [
  {
   "cell_type": "markdown",
   "id": "0fe65798",
   "metadata": {},
   "source": [
    "# AI - Fall 00 - Computer Assignment 3"
   ]
  },
  {
   "cell_type": "markdown",
   "id": "a751b6d3",
   "metadata": {},
   "source": [
    "<div style=\"font-size: 16px\">\n",
    "<b>Paria Khoshtab 810198387</b>\n",
    "<hr>\n",
    "</div>"
   ]
  },
  {
   "cell_type": "markdown",
   "id": "0acddc7d",
   "metadata": {},
   "source": [
    "## Goal"
   ]
  },
  {
   "cell_type": "markdown",
   "id": "5c4eadef",
   "metadata": {},
   "source": [
    "The goal of this project is to get more familiar with a classification technique based on Bayes' Theorem with\n",
    "an assumption of independence among predictors called a `Naive Bayes Classifier.`"
   ]
  },
  {
   "cell_type": "markdown",
   "id": "53cd7262",
   "metadata": {},
   "source": [
    "## Brief Description"
   ]
  },
  {
   "cell_type": "markdown",
   "id": "f2232787",
   "metadata": {},
   "source": [
    "In this problem, we are given a training dataset (`divar_train.csv`) and a test dataset (`divar_test.csv`)\n",
    "related to the advertisements on Divar, which is a platform for the free posting of advertisements.\n",
    "In this project, we intend to use the 'Classifier Bayes Naive' to analyze the advertisements on the Divar site and \n",
    "categorize them."
   ]
  },
  {
   "cell_type": "markdown",
   "id": "422ed9a5",
   "metadata": {},
   "source": [
    "## Modeling the Problem"
   ]
  },
  {
   "cell_type": "markdown",
   "id": "89f28a91",
   "metadata": {},
   "source": [
    "We use <b>Bag-of-Words Naive Bayes</b> to predict classifications:<br>\n",
    "- Features: $w_i$ is the word at position i<br>\n",
    "- Assume features are conditionally independent given class c<br>\n",
    "- All positions share the same conditional probs $p(w|c)$\n",
    "- Generative model: $p(c, w_1, w_2...w_n) = p(c)\\prod_{i=1}^np(w_i|c)$"
   ]
  },
  {
   "cell_type": "markdown",
   "id": "7715b2cb",
   "metadata": {},
   "source": [
    "<hr>"
   ]
  },
  {
   "cell_type": "markdown",
   "id": "8d114ec2",
   "metadata": {},
   "source": [
    "First we have to import necessary libraries."
   ]
  },
  {
   "cell_type": "code",
   "execution_count": 1,
   "id": "45ecfe67",
   "metadata": {},
   "outputs": [],
   "source": [
    "import numpy as np\n",
    "import pandas as pd\n",
    "from __future__ import unicode_literals\n",
    "from hazm import *\n",
    "from parsivar import *\n",
    "import string\n",
    "from nltk.util import ngrams\n",
    "from collections import Counter\n",
    "import math\n",
    "import matplotlib.pyplot as plt"
   ]
  },
  {
   "cell_type": "markdown",
   "id": "5f95ff23",
   "metadata": {},
   "source": [
    "In the code below, we read train and test CSV files and store them in data frames."
   ]
  },
  {
   "cell_type": "code",
   "execution_count": 2,
   "id": "972c6e1d",
   "metadata": {
    "scrolled": true
   },
   "outputs": [],
   "source": [
    "train_df = pd.read_csv(\"divar_train.csv\")\n",
    "test_df = pd.read_csv(\"divar_test.csv\")"
   ]
  },
  {
   "cell_type": "markdown",
   "id": "de42f536",
   "metadata": {},
   "source": [
    "## Phase 1: Data Preprocessing"
   ]
  },
  {
   "cell_type": "markdown",
   "id": "355dad52",
   "metadata": {},
   "source": [
    "We normalize the titles and descriptions in the training and test data frames as much as possible by removing the \n",
    "stop words, nonsignificant characters, punctuation marks, English letters and digits, and Persian and Arabic digits. <br>"
   ]
  },
  {
   "cell_type": "code",
   "execution_count": 3,
   "id": "342a5f4b",
   "metadata": {
    "scrolled": true
   },
   "outputs": [],
   "source": [
    "def normalize(sentence):\n",
    "    special_chars = list(string.punctuation + string.ascii_lowercase + string.ascii_uppercase + string.digits)\n",
    "    special_chars += ['،', '\\n', '\\r', '\\b']\n",
    "    special_chars += list(u'۱۲۳۴۵۶۷۸۹۰') +  list(u'١٢٣٤٥٦٧٨٩٠');\n",
    "    sentence = sentence.translate ({ord(c): ' ' for c in special_chars})\n",
    "    for sw in stopwords_list():\n",
    "        sentence = sentence.replace(' ' + sw + ' ', ' ')\n",
    "    return sentence   \n",
    "\n",
    "train_df['title'] = train_df['title'].apply(normalize)\n",
    "train_df['description'] = train_df['description'].apply(normalize)\n",
    "test_df['title'] = test_df['title'].apply(normalize)\n",
    "test_df['description'] = test_df['description'].apply(normalize)"
   ]
  },
  {
   "cell_type": "markdown",
   "id": "8eb62655",
   "metadata": {},
   "source": [
    "We didn't use `Lemmatization`, `Stemming` and `Normalizing` in preposseing, but we can observe the effect of other types \n",
    "of preprocessing methods in hazm library:"
   ]
  },
  {
   "cell_type": "markdown",
   "id": "0f87c31a",
   "metadata": {},
   "source": [
    "Normalizer transforms one word with extra spaces into one word with half-spaces."
   ]
  },
  {
   "cell_type": "code",
   "execution_count": 4,
   "id": "20c0b4b2",
   "metadata": {},
   "outputs": [
    {
     "data": {
      "text/plain": [
       "'اصلاح نویسه\\u200cها و استفاده از نیم\\u200cفاصله پردازش را آسان می\\u200cکند'"
      ]
     },
     "execution_count": 4,
     "metadata": {},
     "output_type": "execute_result"
    }
   ],
   "source": [
    "normalizer = Normalizer()\n",
    "normalizer.normalize('اصلاح نويسه ها و استفاده از نیم‌فاصله پردازش را آسان مي كند')"
   ]
  },
  {
   "cell_type": "code",
   "execution_count": 5,
   "id": "f6af5501",
   "metadata": {},
   "outputs": [
    {
     "data": {
      "text/plain": [
       "'دفتر '"
      ]
     },
     "execution_count": 5,
     "metadata": {},
     "output_type": "execute_result"
    }
   ],
   "source": [
    "stemmer = Stemmer()\n",
    "stemmer.stem ( 'دفتر ها' )"
   ]
  },
  {
   "cell_type": "code",
   "execution_count": 6,
   "id": "83f5ed43",
   "metadata": {},
   "outputs": [
    {
     "data": {
      "text/plain": [
       "'رفت#رو'"
      ]
     },
     "execution_count": 6,
     "metadata": {},
     "output_type": "execute_result"
    }
   ],
   "source": [
    "lemmatizer = Lemmatizer()\n",
    "lemmatizer.lemmatize ('رفتم')"
   ]
  },
  {
   "cell_type": "markdown",
   "id": "78d64344",
   "metadata": {},
   "source": [
    "### Question 1"
   ]
  },
  {
   "cell_type": "markdown",
   "id": "252ae15c",
   "metadata": {},
   "source": [
    "<b>Stemming</b> is a rule-based approach because it slices the inflected words from prefix or suffix as per the need using a\n",
    "set of commonly underused prefix and suffix, like “-ing”, “-ed”, “-es”, “-pre”, etc. It results in a word that is actually not\n",
    "a word.<br>\n",
    "<b>Lemmatization</b> considers the context and\n",
    "converts the word to its meaningful base form, which is called Lemma. After lemmatization,\n",
    "we will be getting a valid word that means the same thing. Sometimes, \n",
    "the same word can have multiple different Lemmas. Identifying the Part of Speech tag for the word in that specific\n",
    "context can help us. It is similar to stemming, in turn,\n",
    "it gives the stripped word that has some dictionary meaning.<br>\n",
    "For example, Lemmatization clearly identifies the base form of ‘troubled’ to ‘trouble’’ denoting some meaning whereas,\n",
    "Stemming will cut out ‘ed’ part and convert it into ‘troubl’ which has the wrong meaning and spelling errors.<br>"
   ]
  },
  {
   "cell_type": "markdown",
   "id": "b3018392",
   "metadata": {},
   "source": [
    "## Phase 2: Problem process"
   ]
  },
  {
   "cell_type": "markdown",
   "id": "95e195f3",
   "metadata": {},
   "source": [
    "### Question 2"
   ]
  },
  {
   "cell_type": "markdown",
   "id": "4982e1be",
   "metadata": {},
   "source": [
    "- <b>Prior: </b> $p(c)$  is the prior probability of class, i.e. probability of class c(event) before text x(evidence) is\n",
    "seen. This probability is calculated by dividing the number of texts whose class is c by the total number of texts in train\n",
    "dataset(i.e. $\\frac{count(c)}{len(train)}$)<br>\n",
    "\n",
    "- <b>Likelihood: </b> $p(x|c)$ is the likelihood which is the probability of predictor given class, which here\n",
    "    means the probability of text x given class c.This probability is calculated by multiplying the probability \n",
    "    of each word of the text x, given class c. Since in the Naive Bayes, these words are independent of each other,\n",
    "    we have: $ p(x|c) = p(x_1|c)p(x_2|c)...p(x_n|c)$ where $p(x_i|c) = \\frac{count(x_i,c)}{count(c)}$<br>\n",
    "        \n",
    "- <b>Evidence: </b>$p(x)$ is the prior probability of predictor, which here means The probability of seeing text x \n",
    "    in all existing class texts. This probability which is calculated by dividing the number of x texts by \n",
    "    the total number of texts in train dataset(i.e. $\\frac{count(x)}{len(train)}$) <br>\n",
    "    \n",
    "- <b>Posterior: </b> $p(c|x)$ is the posterior probability of class c given sentence x, which consists of words $x_1, x_2...x_n$.\n",
    ". This probability is calculated using the Bayes Theorem(i.e. $\\frac{p(x|c)p(c)}{p(x)}$) <br>"
   ]
  },
  {
   "cell_type": "markdown",
   "id": "f4369588",
   "metadata": {},
   "source": [
    "Now, we can obtain the values for each by looking at the dataset and substitute them into the equation.\n",
    "For all entries in the dataset, the denominator does not change, it remains static. Therefore, the denominator\n",
    "can be removed and proportionality can be injected:<br>\n",
    "$p(c|x) \\sim p(x_1|c)p(x_2|c)...p(x_n|c)p(c)$<br>\n",
    "we have to find the class variable(c) with maximum probability:<br>\n",
    "$c = \\operatorname{arg\\,max}_c p(x_1|c)p(x_2|c)...p(x_n|c)p(c)$"
   ]
  },
  {
   "cell_type": "markdown",
   "id": "097febfd",
   "metadata": {},
   "source": [
    "For calculations, we merge the two columns of title and description, in which case we will have one column for the data."
   ]
  },
  {
   "cell_type": "code",
   "execution_count": 7,
   "id": "d03fdba3",
   "metadata": {},
   "outputs": [],
   "source": [
    "train_df['data'] = train_df['title'] + \" \" + train_df['description']\n",
    "train_df.drop(['title', 'description'], axis = 1, inplace = True)\n",
    "test_df['data'] = test_df['title'] + \" \" + test_df['description']\n",
    "test_df.drop(['title', 'description'], axis = 1, inplace = True)"
   ]
  },
  {
   "cell_type": "markdown",
   "id": "f27345a9",
   "metadata": {},
   "source": [
    "First of all, we find the number of each word of given texts according to its class.\n",
    "By doing this, we have somehow trained our model."
   ]
  },
  {
   "cell_type": "code",
   "execution_count": 8,
   "id": "f8cc4bd9",
   "metadata": {},
   "outputs": [],
   "source": [
    "def create_dictionary(category):    \n",
    "    data = train_df[train_df['categories'] == category]['data']\n",
    "    words = []\n",
    "    for text in data:\n",
    "        tokens = word_tokenize(text)\n",
    "        words += tokens\n",
    "    return Counter(words)"
   ]
  },
  {
   "cell_type": "code",
   "execution_count": 9,
   "id": "14bbd8dd",
   "metadata": {},
   "outputs": [],
   "source": [
    "categories = {}\n",
    "for category in np.unique(train_df['categories']):\n",
    "    categories[category] = create_dictionary(category)"
   ]
  },
  {
   "cell_type": "markdown",
   "id": "a2e5ec19",
   "metadata": {},
   "source": [
    "We implement `posterior_probability` function which returns $p(c|x)$ based on above approach using Naive Bayes:"
   ]
  },
  {
   "cell_type": "code",
   "execution_count": 10,
   "id": "de06fe89",
   "metadata": {},
   "outputs": [],
   "source": [
    "def posterior_probability(text, category_name, category_dict):       \n",
    "    words = word_tokenize(text)\n",
    "    posterior = len(train_df[train_df['categories'] == category_name])/len(train_df)\n",
    "    for w in words:\n",
    "        if w not in category_dict:\n",
    "            posterior = 0\n",
    "            break\n",
    "        posterior *= category_dict[w]/sum(category_dict.values())\n",
    "    return posterior"
   ]
  },
  {
   "cell_type": "markdown",
   "id": "5e33f01f",
   "metadata": {},
   "source": [
    "We implement `predict_category` which returns the class with highest posterior probability, given text."
   ]
  },
  {
   "cell_type": "code",
   "execution_count": 11,
   "id": "17b191fb",
   "metadata": {},
   "outputs": [],
   "source": [
    "def predict_category(text):\n",
    "    max_prob = -math.inf\n",
    "    category = None\n",
    "    for name in categories:\n",
    "        posterior = posterior_probability(text, name, categories[name])\n",
    "        if posterior > max_prob:\n",
    "            max_prob = posterior\n",
    "            category = name\n",
    "    return category"
   ]
  },
  {
   "cell_type": "markdown",
   "id": "6b14331f",
   "metadata": {},
   "source": [
    "For example we have:"
   ]
  },
  {
   "cell_type": "code",
   "execution_count": 12,
   "id": "eb4e7144",
   "metadata": {
    "scrolled": true
   },
   "outputs": [
    {
     "name": "stdout",
     "output_type": "stream",
     "text": [
      "text:  کیف مجلسی نو کیف مجلسی نوی نو\n",
      "predicted category:  personal\n",
      "actual category:  personal\n"
     ]
    }
   ],
   "source": [
    "text = test_df['data'][0]\n",
    "print('text: ', text)\n",
    "print('predicted category: ', predict_category(text))\n",
    "print('actual category: ', test_df['categories'][0])"
   ]
  },
  {
   "cell_type": "markdown",
   "id": "7979e2ea",
   "metadata": {},
   "source": [
    "## Bigrams"
   ]
  },
  {
   "cell_type": "markdown",
   "id": "50ec4e36",
   "metadata": {},
   "source": [
    "### Question 3"
   ]
  },
  {
   "cell_type": "markdown",
   "id": "f9c152f8",
   "metadata": {},
   "source": [
    "<b></b> Technically, almost every word has multiple meanings, for example:<br>\n",
    "\n",
    "- Her favorite fruit to eat is a date.<br>\n",
    "- What is your date of birth?<br>\n",
    "\n",
    "For any artificial intelligence or machine learning model,\n",
    "we need to train the model with a huge corpus of data. Once we do that, the system will have a\n",
    "pretty good idea of the “probability” of the occurrence of a word after or before a certain word. \n",
    "So hoping that we have trained our model with a huge corpus of data, we’ll assume that the model gave us the correct answer.\n",
    "so:<br>\n",
    "- It can help in deciding which bigrams can be chunked together to form single entities.<br>\n",
    "- It can also help make next word predictions.<br>\n",
    "- It can also help to make spelling error corrections.<br>\n",
    "\n",
    "Bigram is not enough to specify the meaning of the word(“date”) in my example and it requires a longer n-gram because words before\n",
    "and after “date” in the sentences are {'a', '.', 'your', 'of'} which can't specify the meaning. But if we do preprocessing by\n",
    "removing stop words and punctuations, words before and after “date” in the sentences will be {'eat', 'your', 'birth'}, in this\n",
    "case bigram is enough for specifying the meaning of the word because “birth” has a high probability of occurrence after the word\n",
    "“date” , meaning the day of the month or year as specified by a number. Also “eat” has a high probability of occurrence \n",
    "before the word “date”, meaning a sweet, dark brown oval fruit containing a hard stone."
   ]
  },
  {
   "cell_type": "code",
   "execution_count": 13,
   "id": "88de0d98",
   "metadata": {},
   "outputs": [],
   "source": [
    "def get_bigrams(category):    \n",
    "    data = train_df[train_df['categories'] == category]['data']\n",
    "    word_list = []\n",
    "    for d in data:\n",
    "        words = word_tokenize(d)\n",
    "        bigrams = list(ngrams(words, 2))\n",
    "        word_list += bigrams\n",
    "    return word_list"
   ]
  },
  {
   "cell_type": "markdown",
   "id": "0455d0f5",
   "metadata": {},
   "source": [
    "## Additive Smoothing"
   ]
  },
  {
   "cell_type": "markdown",
   "id": "cfcdac57",
   "metadata": {},
   "source": [
    "### Question 4"
   ]
  },
  {
   "cell_type": "markdown",
   "id": "28676d5e",
   "metadata": {},
   "source": [
    "In Bag-of-Words Naive Bayes model, the maximum likelihood estimator for $p(w|c)$ is $\\frac{count(w,c)}{count(c)}$, where w is\n",
    "a word and c is a class. This estimation of $p(w|c)$ could be problematic because \n",
    "it would give us probability 0 for documents with unknown words. since we multiply all the likelihoods, this is the problem\n",
    "of zero probability, and we are unable to be sure about the prediction, so our model will perform poorly.<br>\n",
    "Therefore, the problem mentioned in the question, is due to the fact that the probability $p(w|c)$ for all classes except the \"vehicles\"\n",
    "class is zero, and we only have a greater probability of one per \"vehicles\" class. Since this model selects the class with\n",
    "the highest probability, for all texts including the word \"tire\", the \"vehicles\" class will be selected, which is not necessarily\n",
    "correct."
   ]
  },
  {
   "cell_type": "markdown",
   "id": "276f6ff1",
   "metadata": {},
   "source": [
    "### Question 5"
   ]
  },
  {
   "cell_type": "markdown",
   "id": "3be5ed30",
   "metadata": {},
   "source": [
    "A common way of solving this problem is to use additive smoothing:<br>\n",
    "Let V be the set of words in the training set(vocabulary), add a new element (for unknown) to the set of words, Define:<br>\n",
    "$p(w|c) = \\frac{count(w,c) + 1}{count(c) + |V| + 1}$<br>\n",
    "In particular, any unknown word will have probability $p(w|c) = \\frac{1}{count(c) + |V| + 1}$<br> which is not 0 and solves the\n",
    "problem."
   ]
  },
  {
   "cell_type": "markdown",
   "id": "10f7cd36",
   "metadata": {},
   "source": [
    "We implement `posterior_probability_AS` function which returns  $𝑝(𝑐|𝑥)$  based on additive smoothing method:"
   ]
  },
  {
   "cell_type": "code",
   "execution_count": 14,
   "id": "137d572d",
   "metadata": {},
   "outputs": [],
   "source": [
    "def posterior_probability_AS(sentence, category_name, category_dict):       \n",
    "    words = word_tokenize(sentence)\n",
    "    posterior = len(train_df[train_df['categories'] == category_name])/len(train_df)\n",
    "    \n",
    "    V = len({**categories['businesses'], **categories['electronic-devices'], **categories['for-the-home'], \\\n",
    "             **categories['leisure-hobbies'], **categories['personal'], **categories['vehicles']})\n",
    "    \n",
    "    for w in words:\n",
    "        count_w_c = 0\n",
    "        if w in category_dict:\n",
    "            count_w_c = category_dict[w]\n",
    "        posterior *= (count_w_c + 1)/(sum(category_dict.values()) + V + 1)\n",
    "    return posterior"
   ]
  },
  {
   "cell_type": "markdown",
   "id": "9e4f2103",
   "metadata": {},
   "source": [
    "We implement `predict_category_AS` which returns the class with highest posterior probability based on additive smooting method, \n",
    "given text."
   ]
  },
  {
   "cell_type": "code",
   "execution_count": 15,
   "id": "ca58d4d5",
   "metadata": {},
   "outputs": [],
   "source": [
    "def predict_category_AS(text):\n",
    "    max_prob = -math.inf\n",
    "    category = None\n",
    "    for name in categories:\n",
    "        posterior = posterior_probability_AS(text, name, categories[name])\n",
    "        if posterior > max_prob:\n",
    "            max_prob = posterior\n",
    "            category = name\n",
    "    return category"
   ]
  },
  {
   "cell_type": "markdown",
   "id": "f0badc37",
   "metadata": {},
   "source": [
    "For example we have:"
   ]
  },
  {
   "cell_type": "code",
   "execution_count": 16,
   "id": "51d0a4c0",
   "metadata": {},
   "outputs": [
    {
     "name": "stdout",
     "output_type": "stream",
     "text": [
      "text:  دیوار کوب نمدی تزیینی مناسب جهاز عروس\n",
      "predicted category:  for-the-home\n",
      "actual category:  for-the-home\n"
     ]
    }
   ],
   "source": [
    "text = test_df['data'][1]\n",
    "print('text: ', text)\n",
    "print('predicted category: ', predict_category_AS(text))\n",
    "print('actual category: ', test_df['categories'][1])"
   ]
  },
  {
   "cell_type": "markdown",
   "id": "36e554fa",
   "metadata": {},
   "source": [
    "## Verification"
   ]
  },
  {
   "cell_type": "markdown",
   "id": "c96059f3",
   "metadata": {},
   "source": [
    "### Question 6"
   ]
  },
  {
   "cell_type": "markdown",
   "id": "59f415e6",
   "metadata": {},
   "source": [
    "First we sort the dictionaries by value in descending order and then we plot a diagram of the first 5 words\n",
    "for each dictionary."
   ]
  },
  {
   "cell_type": "code",
   "execution_count": 17,
   "id": "57ef2e3e",
   "metadata": {},
   "outputs": [
    {
     "name": "stdout",
     "output_type": "stream",
     "text": [
      "businesses ['فروش', 'عدد', 'دستگاه', 'نو', 'قیمت']\n"
     ]
    },
    {
     "data": {
      "image/png": "[encoded data removed]",
      "text/plain": [
       "<Figure size 432x288 with 1 Axes>"
      ]
     },
     "metadata": {
      "needs_background": "light"
     },
     "output_type": "display_data"
    },
    {
     "name": "stdout",
     "output_type": "stream",
     "text": [
      "electronic-devices ['گوشی', 'سالم', 'تمیز', 'نو', 'قیمت']\n"
     ]
    },
    {
     "data": {
      "image/png": "[encoded data removed]",
      "text/plain": [
       "<Figure size 432x288 with 1 Axes>"
      ]
     },
     "metadata": {
      "needs_background": "light"
     },
     "output_type": "display_data"
    },
    {
     "name": "stdout",
     "output_type": "stream",
     "text": [
      "for-the-home ['سالم', 'نو', 'میز', 'نفره', 'مبل']\n"
     ]
    },
    {
     "data": {
      "image/png": "[encoded data removed]",
      "text/plain": [
       "<Figure size 432x288 with 1 Axes>"
      ]
     },
     "metadata": {
      "needs_background": "light"
     },
     "output_type": "display_data"
    },
    {
     "name": "stdout",
     "output_type": "stream",
     "text": [
      "leisure-hobbies ['سالم', 'جفت', 'نر', 'دوچرخه', 'ماده']\n"
     ]
    },
    {
     "data": {
      "image/png": "[encoded data removed]",
      "text/plain": [
       "<Figure size 432x288 with 1 Axes>"
      ]
     },
     "metadata": {
      "needs_background": "light"
     },
     "output_type": "display_data"
    },
    {
     "name": "stdout",
     "output_type": "stream",
     "text": [
      "personal ['نو', 'سایز', 'لباس', 'کفش', 'قیمت']\n"
     ]
    },
    {
     "data": {
      "image/png": "[encoded data removed]",
      "text/plain": [
       "<Figure size 432x288 with 1 Axes>"
      ]
     },
     "metadata": {
      "needs_background": "light"
     },
     "output_type": "display_data"
    },
    {
     "name": "stdout",
     "output_type": "stream",
     "text": [
      "vehicles ['بیمه', 'سالم', 'رنگ', 'مدل', 'سال']\n"
     ]
    },
    {
     "data": {
      "image/png": "[encoded data removed]",
      "text/plain": [
       "<Figure size 432x288 with 1 Axes>"
      ]
     },
     "metadata": {
      "needs_background": "light"
     },
     "output_type": "display_data"
    }
   ],
   "source": [
    "sorted_vehicles = dict(sorted(categories['vehicles'].items(), key=lambda item: item[1], reverse=True))\n",
    "\n",
    "for name, dictionary in categories.items():\n",
    "    sorted_category = dict(sorted(dictionary.items(), key=lambda item: item[1], reverse=True))\n",
    "    words = list(sorted_category.keys())[0:5]\n",
    "    values = list(sorted_category.values())[0:5]\n",
    "    print(name, words)\n",
    "    plt.title(name)\n",
    "    plt.bar(words, values, color ='green', width = 0.4)\n",
    "    plt.show()  "
   ]
  },
  {
   "cell_type": "markdown",
   "id": "0dd13b11",
   "metadata": {},
   "source": [
    "As shown above, some words in all categories have a high number of repetitions, as a result of which they have no\n",
    "effect on identifying the category for the advertisement. In this case, removing these words from the vocabulary could \n",
    "be a good option."
   ]
  },
  {
   "cell_type": "markdown",
   "id": "d8fa9aa0",
   "metadata": {},
   "source": [
    "## Phase 3: Evaluation"
   ]
  },
  {
   "cell_type": "code",
   "execution_count": 18,
   "id": "50d8ecf3",
   "metadata": {},
   "outputs": [],
   "source": [
    "def accuracy(prediction):\n",
    "    correct_detected = 0\n",
    "    total = len(test_df)\n",
    "    for row in test_df.index:\n",
    "        if test_df['categories'][row] == test_df[prediction][row]:\n",
    "            correct_detected += 1\n",
    "    return correct_detected / total\n",
    "\n",
    "def precision(prediction):\n",
    "    precisions = {}\n",
    "    for name in categories:\n",
    "        correct_detected = len(test_df[(test_df['categories'] == name) & (test_df[prediction] == name)])\n",
    "        all_detected = len(test_df[test_df[prediction] == name])\n",
    "        p = correct_detected / all_detected\n",
    "        precisions[name] = p\n",
    "    return precisions\n",
    "\n",
    "def recall(prediction):\n",
    "    recalls = {}\n",
    "    for name in categories:\n",
    "        correct_detected = len(test_df[(test_df['categories'] == name) & (test_df[prediction] == name)])\n",
    "        total_class = len(test_df[test_df['categories'] == name])\n",
    "        r = correct_detected / total_class\n",
    "        recalls[name] = r\n",
    "    return recalls\n",
    "                                  \n",
    "def F1_score(prediction):\n",
    "    scores = {}\n",
    "    precisions = precision(prediction)\n",
    "    recalls = recall(prediction)\n",
    "    for name in categories:\n",
    "        f1 = 2 * (precisions[name] * recalls[name]) / (precisions[name] + recalls[name])\n",
    "        scores[name] = f1\n",
    "    return scores  "
   ]
  },
  {
   "cell_type": "markdown",
   "id": "6d2b2888",
   "metadata": {},
   "source": [
    "### Question 7"
   ]
  },
  {
   "cell_type": "markdown",
   "id": "6ffae8fb",
   "metadata": {},
   "source": [
    "Because, precision can be seen as a measure of quality, and recall as a measure of quantity. Higher precision means \n",
    "that an algorithm returns more relevant results than irrelevant ones, and high recall means that an algorithm returns \n",
    "most of the relevant results (whether or not irrelevant ones are also returned) So we need a tradeoff between precision and\n",
    "recall for the model in order to work well. For example: <br>\n",
    "    \n",
    "- Assume we have a model that predicts wheather a patient has covid-19 or not and just says one patient has \n",
    "covid-19 an he has it truly. In this case, our precision is 100% but we may miss prediction of having covid-19 for \n",
    "other patients.<br><br>\n",
    "\n",
    "- Assume The surgeon needs to remove all of the tumour cells in brain and must not remove healthy brain cells. If the surgeon\n",
    "acts freely in the area of the brain, he removes to ensure he has extracted all the cancer cells, so he\n",
    "may remove healty brain cells as well. This decision increases recall but reduces precision."
   ]
  },
  {
   "cell_type": "markdown",
   "id": "cbdf194e",
   "metadata": {},
   "source": [
    "### Question 8"
   ]
  },
  {
   "attachments": {
    "Capture.PNG": {
     "image/png": "[encoded data removed]"
    }
   },
   "cell_type": "markdown",
   "id": "35ecc9d1",
   "metadata": {},
   "source": [
    "![Capture.PNG](attachment:Capture.PNG)"
   ]
  },
  {
   "cell_type": "markdown",
   "id": "9011a4fd",
   "metadata": {},
   "source": [
    "F1 Score is the harmonic average of Precision and Recall. Therefore, this score takes both false positives and false negatives into account. \n",
    "Similar to arithmetic mean, the F1-score will always be somewhere in between precision and recall. But it behaves differently: the F1-score gives a larger weight to lower numbers.\n",
    "We use F1 score instead of a simple average because it punishes extreme values. It is never higher than the geometrical mean. It also tends towards the least number, minimizing the impact of the large outliers and maximizing the impact of small ones.\n",
    "F1 is usually useful when we have an uneven class distribution.          "
   ]
  },
  {
   "cell_type": "markdown",
   "id": "70416436",
   "metadata": {},
   "source": [
    "### Question 9"
   ]
  },
  {
   "cell_type": "markdown",
   "id": "0a5f7f71",
   "metadata": {},
   "source": [
    "<b> Macro </b><br>\n",
    "\n",
    "- Macro-averaged F1-score(macro-F1): an arithmetic mean of the per-class F1-scores<br>\n",
    "- Macro-averaged precision: an arithmetic mean of the per-class precisions<br>\n",
    "- Macro-averaged recall: an arithmetic mean of the per-class recalls<br>\n",
    "    \n",
    "It is possible to derive some intuitions from the equation.\n",
    "Macro-Average methods tend to calculate an overall mean of different measures,\n",
    "because the numerators of Macro Average Precision and Macro Average Recall are composed by values in the range [0,1].\n",
    "There is no link to the class size, because classes with different size are equally weighted at the numerator.\n",
    "This implies that the effect of the biggest classes have the same importance as small ones have. The obtained metric \n",
    "evaluates the algorithm from a class standpoint: high Macro-F1 values indicate that the algorithm has good performance on\n",
    "all the classes, whereas low Macro-F1 values refers to poorly predicted classes.<br><br>\n",
    "\n",
    "<b> Micro </b><br>\n",
    "- Micro-F1 = Micro-precision = Micro-recall = Accuracy: the proportion of correctly classified samples out of all the samples.\n",
    "<br>\n",
    "\n",
    "Micro-Average F1-Score is just equal to Accuracy. Hence, pros and cons are shared between the two measures.\n",
    "Both of them give more importance to big classes, because they just consider all the units together. In fact a \n",
    "poor performance on small classes is not so important, since the number of units belonging to those classes is small \n",
    "compared to the dataset size.<br><br>\n",
    "    \n",
    "<b> Weighted </b><br>\n",
    "- weighted-average F1-score(weighted-F1): we weight the F1-score of each class by the number of samples from that class.<br>\n",
    "- Weighted-precision: we weight the precision of each class by the number of samples from that class.<br>\n",
    "- Weighted-recall: we weight the recall of each class by the number of samples from that class.<br>\n",
    "    \n",
    "Weighted-average keeps track of the importance of each class thanks\n",
    "to the frequency. In this case, large and small classes have a proportional effect on the result in relation to\n",
    "their size and the metric can be applied during the training phase of the algorithm on a wide number of classes.  "
   ]
  },
  {
   "cell_type": "code",
   "execution_count": 19,
   "id": "36f399e7",
   "metadata": {},
   "outputs": [],
   "source": [
    "def macro_F1(prediction):\n",
    "    f1_scores = F1_score(prediction)\n",
    "    return sum(f1_scores.values())/len(f1_scores)\n",
    "\n",
    "def macro_precision(prediction):\n",
    "    precisions = precision(prediction)\n",
    "    return sum(precisions.values())/len(precisions)\n",
    "\n",
    "def macro_recall(prediction):\n",
    "    recalls = recall(prediction)\n",
    "    return sum(recalls.values())/len(recalls)\n",
    "\n",
    "def weighted_F1(prediction):\n",
    "    result = 0\n",
    "    for category, score in F1_score(prediction).items():\n",
    "        result += len(test_df[test_df['categories'] == category]) * score\n",
    "    return result/len(test_df)\n",
    "                      \n",
    "def weighted_precision(prediction):\n",
    "    result = 0 \n",
    "    for category, prec in precision(prediction).items():\n",
    "        result += len(test_df[test_df['categories'] == category]) * prec\n",
    "    return result/len(test_df)\n",
    "\n",
    "def weighted_recall(prediction):\n",
    "    result = 0 \n",
    "    for category, rec in recall(prediction).items():\n",
    "        result += len(test_df[test_df['categories'] == category]) * rec\n",
    "    return result/len(test_df)                      "
   ]
  },
  {
   "cell_type": "markdown",
   "id": "2ed9782a",
   "metadata": {},
   "source": [
    "We store the results of our classification in two new columns of test dataframe called `predicted-category-1`\n",
    "(without additive smooting) and `predicted-category-2` (with additive smooting)"
   ]
  },
  {
   "cell_type": "code",
   "execution_count": 20,
   "id": "816afb8b",
   "metadata": {},
   "outputs": [],
   "source": [
    "test_df['predicted-category-1'] = test_df['data'].apply(predict_category)\n",
    "test_df['predicted-category-2'] = test_df['data'].apply(predict_category_AS)"
   ]
  },
  {
   "cell_type": "markdown",
   "id": "233c71b0",
   "metadata": {},
   "source": [
    "### Question 10"
   ]
  },
  {
   "cell_type": "markdown",
   "id": "236fdc7f",
   "metadata": {},
   "source": [
    "### A) results with using additive smoothing"
   ]
  },
  {
   "cell_type": "markdown",
   "id": "df122ce9",
   "metadata": {},
   "source": [
    "#### Accuracy"
   ]
  },
  {
   "cell_type": "code",
   "execution_count": 21,
   "id": "341734ee",
   "metadata": {
    "scrolled": true
   },
   "outputs": [
    {
     "name": "stdout",
     "output_type": "stream",
     "text": [
      "0.8705555555555555\n"
     ]
    }
   ],
   "source": [
    "print(accuracy('predicted-category-2'))"
   ]
  },
  {
   "cell_type": "markdown",
   "id": "001b51bf",
   "metadata": {},
   "source": [
    "#### Precision"
   ]
  },
  {
   "cell_type": "code",
   "execution_count": 22,
   "id": "60f45322",
   "metadata": {
    "scrolled": true
   },
   "outputs": [
    {
     "name": "stdout",
     "output_type": "stream",
     "text": [
      "businesses : 0.788961038961039\n",
      "electronic-devices : 0.8928571428571429\n",
      "for-the-home : 0.8349514563106796\n",
      "leisure-hobbies : 0.939622641509434\n",
      "personal : 0.867741935483871\n",
      "vehicles : 0.91\n"
     ]
    }
   ],
   "source": [
    "for category, p in precision('predicted-category-2').items():\n",
    "    print(category, ':', p)"
   ]
  },
  {
   "cell_type": "markdown",
   "id": "0257a329",
   "metadata": {},
   "source": [
    "#### Recall"
   ]
  },
  {
   "cell_type": "code",
   "execution_count": 23,
   "id": "575b03d3",
   "metadata": {
    "scrolled": true
   },
   "outputs": [
    {
     "name": "stdout",
     "output_type": "stream",
     "text": [
      "businesses : 0.81\n",
      "electronic-devices : 0.9166666666666666\n",
      "for-the-home : 0.86\n",
      "leisure-hobbies : 0.83\n",
      "personal : 0.8966666666666666\n",
      "vehicles : 0.91\n"
     ]
    }
   ],
   "source": [
    "for category, r in recall('predicted-category-2').items():\n",
    "    print(category, ':', r)"
   ]
  },
  {
   "cell_type": "markdown",
   "id": "e02fef5a",
   "metadata": {},
   "source": [
    "#### F1-score"
   ]
  },
  {
   "cell_type": "code",
   "execution_count": 24,
   "id": "6e8a3f8a",
   "metadata": {
    "scrolled": true
   },
   "outputs": [
    {
     "name": "stdout",
     "output_type": "stream",
     "text": [
      "businesses : 0.799342105263158\n",
      "electronic-devices : 0.9046052631578947\n",
      "for-the-home : 0.8472906403940887\n",
      "leisure-hobbies : 0.8814159292035398\n",
      "personal : 0.8819672131147541\n",
      "vehicles : 0.91\n"
     ]
    }
   ],
   "source": [
    "for category, s in F1_score('predicted-category-2').items():\n",
    "    print(category, ':', s)"
   ]
  },
  {
   "cell_type": "markdown",
   "id": "c73d1263",
   "metadata": {},
   "source": [
    "#### Macro"
   ]
  },
  {
   "cell_type": "code",
   "execution_count": 25,
   "id": "4396445a",
   "metadata": {},
   "outputs": [
    {
     "name": "stdout",
     "output_type": "stream",
     "text": [
      "Macro F1 : 0.8707701918555726\n",
      "Macro precision : 0.8723557025203611\n",
      "Macro recall : 0.8705555555555556\n"
     ]
    }
   ],
   "source": [
    "print('Macro F1 :', macro_F1('predicted-category-2'))\n",
    "print('Macro precision :', macro_precision('predicted-category-2'))\n",
    "print('Macro recall :', macro_recall('predicted-category-2'))"
   ]
  },
  {
   "cell_type": "markdown",
   "id": "14513bb5",
   "metadata": {},
   "source": [
    "#### Micro"
   ]
  },
  {
   "cell_type": "code",
   "execution_count": 26,
   "id": "469c435a",
   "metadata": {},
   "outputs": [
    {
     "name": "stdout",
     "output_type": "stream",
     "text": [
      "Micro F1 = Micro precision = Micro recall = 0.8705555555555555\n"
     ]
    }
   ],
   "source": [
    "print('Micro F1 = Micro precision = Micro recall =', accuracy('predicted-category-2'))"
   ]
  },
  {
   "cell_type": "markdown",
   "id": "ce01e7b7",
   "metadata": {},
   "source": [
    "#### Weighted"
   ]
  },
  {
   "cell_type": "code",
   "execution_count": 27,
   "id": "57dcfc05",
   "metadata": {
    "scrolled": true
   },
   "outputs": [
    {
     "name": "stdout",
     "output_type": "stream",
     "text": [
      "Weighted F1 : 0.8707701918555726\n",
      "Weighted precision : 0.872355702520361\n",
      "Weighted recall : 0.8705555555555555\n"
     ]
    }
   ],
   "source": [
    "print('Weighted F1 :', weighted_F1('predicted-category-2'))\n",
    "print('Weighted precision :', weighted_precision('predicted-category-2'))\n",
    "print('Weighted recall :', weighted_recall('predicted-category-2'))"
   ]
  },
  {
   "cell_type": "markdown",
   "id": "942a2ea1",
   "metadata": {},
   "source": [
    "### B) results without using additive smoothing"
   ]
  },
  {
   "cell_type": "markdown",
   "id": "4f9277f0",
   "metadata": {},
   "source": [
    "#### Accuracy"
   ]
  },
  {
   "cell_type": "code",
   "execution_count": 28,
   "id": "3fc0aa4e",
   "metadata": {},
   "outputs": [
    {
     "name": "stdout",
     "output_type": "stream",
     "text": [
      "0.46\n"
     ]
    }
   ],
   "source": [
    "print(accuracy('predicted-category-1'))"
   ]
  },
  {
   "cell_type": "markdown",
   "id": "25f1e460",
   "metadata": {},
   "source": [
    "#### Precision"
   ]
  },
  {
   "cell_type": "code",
   "execution_count": 29,
   "id": "774e65d8",
   "metadata": {
    "scrolled": true
   },
   "outputs": [
    {
     "name": "stdout",
     "output_type": "stream",
     "text": [
      "businesses : 0.23574468085106384\n",
      "electronic-devices : 0.8991596638655462\n",
      "for-the-home : 0.8482758620689655\n",
      "leisure-hobbies : 0.7802197802197802\n",
      "personal : 0.9154929577464789\n",
      "vehicles : 0.9375\n"
     ]
    }
   ],
   "source": [
    "for category, p in precision('predicted-category-1').items():\n",
    "    print(category, ':', p)"
   ]
  },
  {
   "cell_type": "markdown",
   "id": "87822e01",
   "metadata": {},
   "source": [
    "#### Recall"
   ]
  },
  {
   "cell_type": "code",
   "execution_count": 30,
   "id": "ef830da0",
   "metadata": {
    "scrolled": true
   },
   "outputs": [
    {
     "name": "stdout",
     "output_type": "stream",
     "text": [
      "businesses : 0.9233333333333333\n",
      "electronic-devices : 0.3566666666666667\n",
      "for-the-home : 0.41\n",
      "leisure-hobbies : 0.23666666666666666\n",
      "personal : 0.43333333333333335\n",
      "vehicles : 0.4\n"
     ]
    }
   ],
   "source": [
    "for category, r in recall('predicted-category-1').items():\n",
    "    print(category, ':', r)"
   ]
  },
  {
   "cell_type": "markdown",
   "id": "5e41836e",
   "metadata": {},
   "source": [
    "#### F1-score"
   ]
  },
  {
   "cell_type": "code",
   "execution_count": 31,
   "id": "8db18250",
   "metadata": {
    "scrolled": true
   },
   "outputs": [
    {
     "name": "stdout",
     "output_type": "stream",
     "text": [
      "businesses : 0.375593220338983\n",
      "electronic-devices : 0.5107398568019093\n",
      "for-the-home : 0.5528089887640449\n",
      "leisure-hobbies : 0.3631713554987212\n",
      "personal : 0.5882352941176471\n",
      "vehicles : 0.5607476635514019\n"
     ]
    }
   ],
   "source": [
    "for category, s in F1_score('predicted-category-1').items():\n",
    "    print(category, ':', s)"
   ]
  },
  {
   "cell_type": "markdown",
   "id": "4c046976",
   "metadata": {},
   "source": [
    "#### Macro"
   ]
  },
  {
   "cell_type": "code",
   "execution_count": 32,
   "id": "67000583",
   "metadata": {
    "scrolled": true
   },
   "outputs": [
    {
     "name": "stdout",
     "output_type": "stream",
     "text": [
      "Macro F1 : 0.4918827298454513\n",
      "Macro precision : 0.7693988241253059\n",
      "Macro recall : 0.45999999999999996\n"
     ]
    }
   ],
   "source": [
    "print('Macro F1 :', macro_F1('predicted-category-1'))\n",
    "print('Macro precision :', macro_precision('predicted-category-1'))\n",
    "print('Macro recall :', macro_recall('predicted-category-1'))"
   ]
  },
  {
   "cell_type": "markdown",
   "id": "410e145a",
   "metadata": {},
   "source": [
    "#### Micro"
   ]
  },
  {
   "cell_type": "code",
   "execution_count": 33,
   "id": "affd1676",
   "metadata": {
    "scrolled": true
   },
   "outputs": [
    {
     "name": "stdout",
     "output_type": "stream",
     "text": [
      "Micro F1 = Micro precision = Micro recall = 0.46\n"
     ]
    }
   ],
   "source": [
    "print('Micro F1 = Micro precision = Micro recall =', accuracy('predicted-category-1'))"
   ]
  },
  {
   "cell_type": "markdown",
   "id": "7c2e1c11",
   "metadata": {},
   "source": [
    "#### Weighted"
   ]
  },
  {
   "cell_type": "code",
   "execution_count": 34,
   "id": "27e9d719",
   "metadata": {},
   "outputs": [
    {
     "name": "stdout",
     "output_type": "stream",
     "text": [
      "Weighted F1 : 0.4918827298454513\n",
      "Weighted precision : 0.7693988241253058\n",
      "Weighted recall : 0.46\n"
     ]
    }
   ],
   "source": [
    "print('Weighted F1 :', weighted_F1('predicted-category-1'))\n",
    "print('Weighted precision :', weighted_precision('predicted-category-1'))\n",
    "print('Weighted recall :', weighted_recall('predicted-category-1'))"
   ]
  },
  {
   "cell_type": "markdown",
   "id": "3c3e6d3c",
   "metadata": {},
   "source": [
    "### Question 11"
   ]
  },
  {
   "cell_type": "markdown",
   "id": "c4f66781",
   "metadata": {},
   "source": [
    "On average, the results obtained from the smoothing method have a higher score, for example, the accuracy with \n",
    "the smoothing method is 0.87, while without using this method, it is 0.46. Also, in the results of both methods, \n",
    "the averages calculated with the three methods mentioned, are much close to each other because all classes in our \n",
    "test dataframe have the same number, resulting in same weight, so practically, in this special case, the weighted method is\n",
    "the same as the macro method. We can also intuitively observe that there is a tradeoff between the precision and recall."
   ]
  },
  {
   "cell_type": "markdown",
   "id": "c4333705",
   "metadata": {},
   "source": [
    "### Question 12"
   ]
  },
  {
   "cell_type": "markdown",
   "id": "11a938af",
   "metadata": {},
   "source": [
    "We show 5 advetisements below, that the real category of them is `vehicles`, but we have labeled them other than\n",
    "`vehicles`."
   ]
  },
  {
   "cell_type": "code",
   "execution_count": 35,
   "id": "31e11295",
   "metadata": {},
   "outputs": [
    {
     "data": {
      "text/html": [
       "<div>\n",
       "<style scoped>\n",
       "    .dataframe tbody tr th:only-of-type {\n",
       "        vertical-align: middle;\n",
       "    }\n",
       "\n",
       "    .dataframe tbody tr th {\n",
       "        vertical-align: top;\n",
       "    }\n",
       "\n",
       "    .dataframe thead th {\n",
       "        text-align: right;\n",
       "    }\n",
       "</style>\n",
       "<table border=\"1\" class=\"dataframe\">\n",
       "  <thead>\n",
       "    <tr style=\"text-align: right;\">\n",
       "      <th></th>\n",
       "      <th>categories</th>\n",
       "      <th>data</th>\n",
       "      <th>predicted-category-1</th>\n",
       "      <th>predicted-category-2</th>\n",
       "    </tr>\n",
       "  </thead>\n",
       "  <tbody>\n",
       "    <tr>\n",
       "      <th>133</th>\n",
       "      <td>vehicles</td>\n",
       "      <td>فروش یکجای لوازم اوراقی انواع خودرو تمامی لواز...</td>\n",
       "      <td>businesses</td>\n",
       "      <td>businesses</td>\n",
       "    </tr>\n",
       "    <tr>\n",
       "      <th>193</th>\n",
       "      <td>vehicles</td>\n",
       "      <td>یک جفت                    تمیز زدگی خط خش   هف...</td>\n",
       "      <td>electronic-devices</td>\n",
       "      <td>electronic-devices</td>\n",
       "    </tr>\n",
       "    <tr>\n",
       "      <th>363</th>\n",
       "      <td>vehicles</td>\n",
       "      <td>ظبط پایونر سالم سالم الان نصب هست ماشین شرط تس...</td>\n",
       "      <td>businesses</td>\n",
       "      <td>electronic-devices</td>\n",
       "    </tr>\n",
       "    <tr>\n",
       "      <th>368</th>\n",
       "      <td>vehicles</td>\n",
       "      <td>موستانگ      سفید آبی بسیار است</td>\n",
       "      <td>businesses</td>\n",
       "      <td>leisure-hobbies</td>\n",
       "    </tr>\n",
       "    <tr>\n",
       "      <th>391</th>\n",
       "      <td>vehicles</td>\n",
       "      <td>شمع های سوزنی پخش انواع شمعهای سوزنی اریدیوم د...</td>\n",
       "      <td>businesses</td>\n",
       "      <td>businesses</td>\n",
       "    </tr>\n",
       "  </tbody>\n",
       "</table>\n",
       "</div>"
      ],
      "text/plain": [
       "    categories                                               data  \\\n",
       "133   vehicles  فروش یکجای لوازم اوراقی انواع خودرو تمامی لواز...   \n",
       "193   vehicles  یک جفت                    تمیز زدگی خط خش   هف...   \n",
       "363   vehicles  ظبط پایونر سالم سالم الان نصب هست ماشین شرط تس...   \n",
       "368   vehicles                    موستانگ      سفید آبی بسیار است   \n",
       "391   vehicles  شمع های سوزنی پخش انواع شمعهای سوزنی اریدیوم د...   \n",
       "\n",
       "    predicted-category-1 predicted-category-2  \n",
       "133           businesses           businesses  \n",
       "193   electronic-devices   electronic-devices  \n",
       "363           businesses   electronic-devices  \n",
       "368           businesses      leisure-hobbies  \n",
       "391           businesses           businesses  "
      ]
     },
     "execution_count": 35,
     "metadata": {},
     "output_type": "execute_result"
    }
   ],
   "source": [
    "false_predictions = test_df[(test_df['categories'] == 'vehicles') & (test_df['predicted-category-2'] != 'vehicles')]\n",
    "false_predictions.head(5)"
   ]
  },
  {
   "cell_type": "markdown",
   "id": "0c960fa0",
   "metadata": {},
   "source": [
    "The assumptions made by Naive Bayes are not necessarily correct because Naive Bayes assumes that all predictors \n",
    "(or features) are independent, rarely happening in real life.\n",
    "This limits the applicability of this algorithm in real-world use cases but often works well in practice.\n",
    "In fact, in the bag-of-words model, all words are considered independent of their position and independent of each other, while in real-world texts, words and their position are not independent, and we also used Unigram tokens in this question, which again ignores the dependence of words. These problems may cause the algorithm to fail in some tests and predict wrongly."
   ]
  },
  {
   "cell_type": "markdown",
   "id": "ad52293b",
   "metadata": {},
   "source": [
    "## Conclusion"
   ]
  },
  {
   "cell_type": "markdown",
   "id": "42a57f57",
   "metadata": {},
   "source": [
    "- It is easy and fast to predict the class of the test data set. It also performs well in multi-class prediction.<br>\n",
    "- If categorical variable has a category (in test data set), which was not observed in training data set, \n",
    "then model will assign a 0 (zero) probability and will be unable to make a prediction.\n",
    "To solve this, we can use the additive smoothing technique.<br>\n",
    "- One of the limitations of Naive Bayes is the assumption of independent predictors. \n",
    "In real life, it is almost impossible that we get a set of predictors which are completely independent."
   ]
  }
 ],
 "metadata": {
  "kernelspec": {
   "display_name": "Python 3",
   "language": "python",
   "name": "python3"
  },
  "language_info": {
   "codemirror_mode": {
    "name": "ipython",
    "version": 3
   },
   "file_extension": ".py",
   "mimetype": "text/x-python",
   "name": "python",
   "nbconvert_exporter": "python",
   "pygments_lexer": "ipython3",
   "version": "3.8.8"
  }
 },
 "nbformat": 4,
 "nbformat_minor": 5
}
